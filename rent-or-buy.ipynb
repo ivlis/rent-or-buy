{
 "cells": [
  {
   "cell_type": "markdown",
   "metadata": {},
   "source": [
    "# Buy or Rent\n",
    "\n",
    "## Plot \n",
    "\n",
    "Buying a real estate property is, probably, one of the most important decisions a family needs to settle. Indeed, on the one hand, quite often the price of a residence has the lion's share in the entire lifetime budget of a family. On the other hand, mortgage payments prolong for up to 30 years, overlapping a significant part of people lives. Quite obviously, the right decision in locking a reasonable price for a house with a good interest rate can positively influence somebody's life. By the same reasons, someone's life can be ruined by hastily made real-estate decisions.\n",
    "\n",
    "Of course, it seems impossible to construct a comprehensive model capable of predicting real estate prices for 30+ years. Practically, however, such a model is not needed, because a decision for purchasing a noninvestment property is usually driven not by economic reasons. A family needs some place to live. Although renting is an option, it is often a relatively short term solution, leading to eventual homeownership. \n",
    "\n",
    "Therefore here I try to answer the following question:\n",
    "* **If I am renting an apartment now, when should I buy a house to minimize my costs?**\n",
    "\n",
    "To make this task manageable, I consider the following constraints:\n",
    "* I plan to buy a house in the next 5-6 years\n",
    "* I consider the real-estate market of Eastern Massachusetts\n",
    "* I am relatively flexible with the location of the house\n"
   ]
  },
  {
   "cell_type": "markdown",
   "metadata": {},
   "source": [
    "## Machine learning formulation\n",
    "\n",
    "The total cost of homeownership consists of the price of a house plus rent I have to pay before the purchase. There are also a ton of other expenses, like legal fees, mortgage interest, repairs, etc., but in this analysis, we neglect them.\n",
    "\n",
    "![house costs](img/house_cost.png)\n",
    "\n",
    "The figure above illustrates the house cost break down. A naive answer for the central question in this research may be buying a house at this given moment, because the rent accumulates, and eventually leads to losing money.\n",
    "\n",
    "However, house prices may fluctuate significantly. A recent fluctuation happened during the 2007-2008 housing bubble burst. In the case of a significant market collapse, the house prices may drop, adjusting the cost of renting.\n",
    "\n",
    "Sure, I am not going to predict if the next housing burst is waiting how dramatic it could be, but it is not our goal. Looking back into the time of the previous market burst, we can study the evolution of the macroeconomic factor during this event. Quite possibly, the next crisis will replicate at least in some detail the behavior of the previous one, so we have some estimation how economics may behave. \n",
    "\n",
    "However, macroeconomic indicators are not very useful for understanding the price for the particular house type in a particular location. But the macroeconomic factors can be used as \"defining trends,\" by which I can estimate the prices on a particular local market. \n",
    "\n",
    "Above said, I reformulate my business question into a machine learning question:\n",
    "* **Predict prices of a unit with a particular number of bedrooms and located in a particular area (targets) based on macroeconomic factors (features)**\n"
   ]
  },
  {
   "cell_type": "markdown",
   "metadata": {},
   "source": [
    "## Data\n",
    "\n",
    "All data is stored in `/data` folder with minimal preprocessing.\n",
    "\n",
    "Listing and Rental prices datasets used:\n",
    "\n",
    "1. The median listing and rent prices by zip code, county, and state for 2011-2018 (no data for the time when markets collapsed in 2007-2008) (\"Zillow dataset\") [https://www.kaggle.com/zillow/zecon]. CSV format. The dataset was gzipped save space.\n",
    "\n",
    "1. House price index (HPI, 2001-2019). Aggregated government data at a large region level (i.e. New England). [https://www.fhfa.gov/DataTools/Downloads/Pages/House-Price-Index.aspx]. CSV format.\n",
    "\n",
    "1. Fair Market Rent (FMR, 2001-2019). Annual data for rental rates at the county or town level. [https://www.huduser.gov/portal/datasets/fmr.html]. Poorly structured Excel files with a slightly different format for each year. Combined and stored as a single mp file. A conversion script is provided. \n",
    "\n",
    "Axillary datasets:\n",
    "\n",
    "1. 30 year fixed historical mortgage APR [https://fred.stlouisfed.org/series/MORTGAGE30US]\n",
    "\n",
    "1. NCHS Urban-Rural Classification Scheme for Counties [https://www.cdc.gov/nchs/data_access/urban_rural.htm]\n",
    "\n"
   ]
  },
  {
   "cell_type": "code",
   "execution_count": 1,
   "metadata": {},
   "outputs": [],
   "source": [
    "import pandas as pd\n",
    "import numpy as np\n",
    "import matplotlib.pyplot as plt\n",
    "import seaborn as sns\n",
    "import datetime\n",
    "import ipywidgets as widgets\n",
    "\n",
    "from IPython.display import display\n",
    "from pandas.plotting import register_matplotlib_converters\n",
    "from sklearn.linear_model import LinearRegression\n",
    "\n",
    "register_matplotlib_converters()\n",
    "\n",
    "# Import helper scripts for data loading\n",
    "\n",
    "from model.helper import (\n",
    "    load_houseprices_by_urban_codes,\n",
    "    load_loan_apr_monthly,\n",
    "    load_hpi_master,\n",
    "    load_fmr_by_region\n",
    ")"
   ]
  },
  {
   "cell_type": "code",
   "execution_count": 2,
   "metadata": {},
   "outputs": [],
   "source": [
    "%load_ext autoreload\n",
    "%autoreload 2"
   ]
  },
  {
   "cell_type": "markdown",
   "metadata": {},
   "source": [
    "### Load features into notebook for visualization"
   ]
  },
  {
   "cell_type": "code",
   "execution_count": 3,
   "metadata": {},
   "outputs": [],
   "source": [
    "apr = load_loan_apr_monthly()\n",
    "hpi_ma = load_hpi_master('New England Division')\n",
    "house_prices, selected_counties = load_houseprices_by_urban_codes(state=\"MA\")\n",
    "fmr = load_fmr_by_region(selected_counties)\n",
    "fmr = fmr[fmr.Date.dt.year<2018]"
   ]
  },
  {
   "cell_type": "markdown",
   "metadata": {},
   "source": [
    "#### Combine all features in one DataFrame"
   ]
  },
  {
   "cell_type": "code",
   "execution_count": 4,
   "metadata": {},
   "outputs": [
    {
     "data": {
      "text/html": [
       "<div>\n",
       "<style scoped>\n",
       "    .dataframe tbody tr th:only-of-type {\n",
       "        vertical-align: middle;\n",
       "    }\n",
       "\n",
       "    .dataframe tbody tr th {\n",
       "        vertical-align: top;\n",
       "    }\n",
       "\n",
       "    .dataframe thead th {\n",
       "        text-align: right;\n",
       "    }\n",
       "</style>\n",
       "<table border=\"1\" class=\"dataframe\">\n",
       "  <thead>\n",
       "    <tr style=\"text-align: right;\">\n",
       "      <th></th>\n",
       "      <th>Date</th>\n",
       "      <th>apr</th>\n",
       "      <th>hpi_sa</th>\n",
       "      <th>fmr</th>\n",
       "    </tr>\n",
       "  </thead>\n",
       "  <tbody>\n",
       "    <tr>\n",
       "      <th>0</th>\n",
       "      <td>2002-12-31</td>\n",
       "      <td>0.060475</td>\n",
       "      <td>180.47</td>\n",
       "      <td>1247.227827</td>\n",
       "    </tr>\n",
       "    <tr>\n",
       "      <th>1</th>\n",
       "      <td>2003-01-31</td>\n",
       "      <td>0.059160</td>\n",
       "      <td>182.35</td>\n",
       "      <td>1252.561653</td>\n",
       "    </tr>\n",
       "    <tr>\n",
       "      <th>2</th>\n",
       "      <td>2003-02-28</td>\n",
       "      <td>0.058425</td>\n",
       "      <td>183.11</td>\n",
       "      <td>1257.895479</td>\n",
       "    </tr>\n",
       "    <tr>\n",
       "      <th>3</th>\n",
       "      <td>2003-03-31</td>\n",
       "      <td>0.057450</td>\n",
       "      <td>184.04</td>\n",
       "      <td>1263.229305</td>\n",
       "    </tr>\n",
       "    <tr>\n",
       "      <th>4</th>\n",
       "      <td>2003-04-30</td>\n",
       "      <td>0.058125</td>\n",
       "      <td>186.45</td>\n",
       "      <td>1268.563130</td>\n",
       "    </tr>\n",
       "  </tbody>\n",
       "</table>\n",
       "</div>"
      ],
      "text/plain": [
       "        Date       apr  hpi_sa          fmr\n",
       "0 2002-12-31  0.060475  180.47  1247.227827\n",
       "1 2003-01-31  0.059160  182.35  1252.561653\n",
       "2 2003-02-28  0.058425  183.11  1257.895479\n",
       "3 2003-03-31  0.057450  184.04  1263.229305\n",
       "4 2003-04-30  0.058125  186.45  1268.563130"
      ]
     },
     "execution_count": 4,
     "metadata": {},
     "output_type": "execute_result"
    }
   ],
   "source": [
    "features = apr.merge(hpi_ma[['Date', 'hpi_sa']], on='Date').merge(fmr, on='Date') \n",
    "features.head()"
   ]
  },
  {
   "cell_type": "markdown",
   "metadata": {},
   "source": [
    "#### Let's exampine FMR and HPI graphically"
   ]
  },
  {
   "cell_type": "code",
   "execution_count": 5,
   "metadata": {
    "jupyter": {
     "source_hidden": true
    }
   },
   "outputs": [
    {
     "data": {
      "image/png": "[encoded data removed]",
      "text/plain": [
       "<Figure size 720x360 with 2 Axes>"
      ]
     },
     "metadata": {
      "image/png": {
       "height": 319,
       "width": 658
      },
      "needs_background": "light"
     },
     "output_type": "display_data"
    }
   ],
   "source": [
    "plt.figure(figsize=(10,5))\n",
    "sns.lineplot(data=features, x='Date', y='hpi_sa', label='HPI New England', legend=False)\n",
    "plt.ylabel('House price index (HPI). Purchase.')\n",
    "\n",
    "ax1 = plt.gca()\n",
    "ax2 = ax1.twinx()\n",
    "sns.scatterplot(ax = ax2, data=features[::12], x='Date', y='fmr', label='FMR Eastern MA', color='C1', s=130, legend=False)\n",
    "sns.lineplot(data=features[::], x='Date', y='fmr', label='FMR (Resampled)', color='C1', legend=False)\n",
    "ax2.set_ylim(1100, 1900)\n",
    "ax2.set_ylabel('Fair Monthly Rent (FMR)')\n",
    "\n",
    "plt.text(0.75, 0.8,'Zillow Data available',\n",
    "     horizontalalignment='center',\n",
    "     verticalalignment='center',\n",
    "     transform = ax1.transAxes,\n",
    "     fontsize=12)\n",
    "\n",
    "plt.axvspan(pd.to_datetime('2011-01-01'), pd.to_datetime('2018-01-01'), alpha=0.1, color='C2')\n",
    "\n",
    "plt.xlim(datetime.date(2002, 1,1), datetime.date(2018, 6,1))\n",
    "\n",
    "lines, labels = ax1.get_legend_handles_labels()\n",
    "lines2, labels2 = ax2.get_legend_handles_labels()\n",
    "ax2.legend(lines + lines2, labels + labels2, loc=9);\n"
   ]
  },
  {
   "cell_type": "markdown",
   "metadata": {},
   "source": [
    "#### Observations:\n",
    "\n",
    "1. Before the housing bubble burst, HPI was rising very fast.\n",
    "1. In contrast, the rent rates ware not rasing significantly, and the FMR even dropped before the burst.\n",
    "1. After the burst HPI decreases significantly during the correction.\n",
    "1. Again, FMR stays practically at the same level and picks up growth after the HPI starts.\n",
    "1. The local house market data is only available during the growth period.\n",
    "1. HPI data is quite noisy, and we need to smoothen it.\n",
    "1. FMR is reported only annually, so we use linear interpolation."
   ]
  },
  {
   "cell_type": "markdown",
   "metadata": {},
   "source": [
    "### Targets: house prices from Zillow\n",
    "\n",
    "We divide Eastern Massachusetts into three areas based on the lifestyle: rural, suburb, and urban. We use the county-level Zillow dataset and the NCHS Urban-Rural Classification Scheme and calculate the average of the listing and rental prices in counties having the same classification.\n",
    "\n",
    "Zillow dataset reports prices for units having a different number of bedrooms. This quantity defines the size of a dwelling. In our model, we consider houses having rooms from 1 to 4. The dataset also reports prices for smaller studios and larger 5+ bedroom houses, but this data is sparse.\n",
    "\n",
    "A combination of the area density (rural, suburb, urban) and the number of bedrooms defines **a market**. For each market we build a machine learning (linear regression) model."
   ]
  },
  {
   "cell_type": "code",
   "execution_count": 71,
   "metadata": {
    "jupyter": {
     "source_hidden": true
    }
   },
   "outputs": [],
   "source": [
    "# Load python classes implementing the machine learling models\n",
    "# to avoid some heavylifting in data importing and processing\n",
    "\n",
    "from model.price_model import PriceModel\n",
    "from model.rent_model import RentModel\n",
    "pm = PriceModel()\n",
    "rm = RentModel()\n",
    "\n",
    "list_prices = pm.features_and_targets[['Date', 'rooms', 'density', 'target']]\n",
    "rent_prices = rm.features_and_targets[['Date', 'rooms', 'density', 'target']]"
   ]
  },
  {
   "cell_type": "markdown",
   "metadata": {},
   "source": [
    "Let's look at the listing prices and rent rates for three-bedroom houses located in different areas.\n",
    "\n",
    "Try to operate the dropdown control to overview different markets"
   ]
  },
  {
   "cell_type": "code",
   "execution_count": 72,
   "metadata": {
    "jupyter": {
     "source_hidden": true
    }
   },
   "outputs": [
    {
     "data": {
      "application/vnd.jupyter.widget-view+json": {
       "model_id": "4076818a554b4e50999bcdbde2ad0d6c",
       "version_major": 2,
       "version_minor": 0
      },
      "text/plain": [
       "Dropdown(description='Rooms: ', index=2, options=(1, 2, 3, 4), value=3)"
      ]
     },
     "metadata": {},
     "output_type": "display_data"
    },
    {
     "data": {
      "application/vnd.jupyter.widget-view+json": {
       "model_id": "1b074cbacd1a4d93a6f3d23b0baeaece",
       "version_major": 2,
       "version_minor": 0
      },
      "text/plain": [
       "Output()"
      ]
     },
     "metadata": {},
     "output_type": "display_data"
    }
   ],
   "source": [
    "def plot_listing_rental(rooms):\n",
    "    fig = plt.figure(figsize=(15,5))\n",
    "    plt.subplot(121)\n",
    "    sns.scatterplot(data=list_prices[list_prices.rooms==rooms], x='Date', y='target', hue='density', lw=2, \n",
    "                    hue_order=['urban', 'suburb', 'rural'])\n",
    "    plt.xlim(datetime.date(2011, 1,1), datetime.date(2018, 1,1))\n",
    "    plt.title(f'Listing bedrooms={rooms}')\n",
    "    plt.ylabel('Listing Price, k$')\n",
    "\n",
    "    plt.subplot(122)\n",
    "    sns.scatterplot(data=rent_prices[rent_prices.rooms==rooms], x='Date', y='target', hue='density', lw=2, \n",
    "                    hue_order=['urban', 'suburb', 'rural'])\n",
    "    plt.xlim(datetime.date(2011, 1,1), datetime.date(2018, 1,1))\n",
    "    plt.title(f'Rental bedrooms={rooms}')\n",
    "    plt.ylabel('Rental rate, $/month')\n",
    "\n",
    "    plt.tight_layout()\n",
    "    \n",
    "\n",
    "def dropdown_rooms_handler(change):\n",
    "    output.clear_output()\n",
    "    with output:\n",
    "        plot_listing_rental(change.new)\n",
    "        plt.show()\n",
    "\n",
    "dropdown_rooms = widgets.Dropdown(options=(range(1,5)), value=3, description='Rooms: ')\n",
    "dropdown_rooms.observe(dropdown_rooms_handler, names='value')\n",
    "\n",
    "output = widgets.Output() \n",
    "\n",
    "\n",
    "display(dropdown_rooms)\n",
    "display(output)\n",
    "\n",
    "with output:\n",
    "    plot_listing_rental(3)\n",
    "    plt.show()\n",
    "\n",
    "output.layout.height = '350px'\n",
    "# plot_listing_rental(4)"
   ]
  },
  {
   "cell_type": "markdown",
   "metadata": {},
   "source": [
    "### Observations:\n",
    "\n",
    "1. The trends well correlate with the macro-indecies (FMR and HPI)\n",
    "1. The prices experience seasonal periodicity, which must be catched\n"
   ]
  },
  {
   "cell_type": "markdown",
   "metadata": {},
   "source": [
    "### Feature engineering: Periodicity\n",
    "\n",
    "To model the seasonal periodic behavior we can use harmonic functions. We can represent the periodic part $P_p$ of the price as:\n",
    "\n",
    "$$P_p = \\sum_{n=1}^N \\gamma^s_{n} \\sin\\left(\\dfrac{2\\pi\\times n\\times \\mathrm{month}}{12}\\right) + \\gamma^c_{n}\\cos\\left(\\dfrac{2\\pi\\times n\\times \\mathrm{month}}{12}\\right)$$\n",
    "\n",
    "Here $N$ defines the number of harmonics we take in this expansion, i.e. $N=1$ means annual periodicity, $N=2$ means semi-annual, and so on. The number of harmonics $N$ will serve as a hyper-parameter of our model."
   ]
  },
  {
   "cell_type": "markdown",
   "metadata": {},
   "source": [
    "### Data processing: Smoothing\n",
    "\n",
    "The time-series data for FMR and APR is noisy due to random fluctuations and sampling errors. But we know that the real estate markets are inertial and rapid changes are unlikely. Therefore it is undesirable to filter out fluctuations or noise from propagating into the model.\n",
    "\n",
    "To achieve noise filtering, we employ [Savitzky–Golay filter](https://en.wikipedia.org/wiki/Savitzky%E2%80%93Golay_filter) (savgol) which a standard approach in digital signal processing, experimental science, and market analysis.\n",
    "   \n",
    "Savgol is implemented in `scipy`, but `scikit-learn` does not provide a transformation class. I implemented a  savgol transformation class in `model/transformtaions.py`\n",
    "\n",
    "Below there is an interactive illustration how savgol works, adjust handers for the window length and approxmation polynom order\n"
   ]
  },
  {
   "cell_type": "code",
   "execution_count": 8,
   "metadata": {
    "jupyter": {
     "source_hidden": true
    }
   },
   "outputs": [
    {
     "data": {
      "application/vnd.jupyter.widget-view+json": {
       "model_id": "92a55745c03045208995265e46b7f67a",
       "version_major": 2,
       "version_minor": 0
      },
      "text/plain": [
       "IntSlider(value=1, description='Order:', max=10, min=1)"
      ]
     },
     "metadata": {},
     "output_type": "display_data"
    },
    {
     "data": {
      "application/vnd.jupyter.widget-view+json": {
       "model_id": "fdabe6a9f2434cf6863f3088b8256551",
       "version_major": 2,
       "version_minor": 0
      },
      "text/plain": [
       "IntSlider(value=11, description='Window:', max=101, min=11, step=2)"
      ]
     },
     "metadata": {},
     "output_type": "display_data"
    },
    {
     "data": {
      "application/vnd.jupyter.widget-view+json": {
       "model_id": "eb624e0ec4e14eacbc7c96127c451e5b",
       "version_major": 2,
       "version_minor": 0
      },
      "text/plain": [
       "Output(layout=Layout(height='300px'))"
      ]
     },
     "metadata": {},
     "output_type": "display_data"
    }
   ],
   "source": [
    "from model.transformations import SavgolFilter\n",
    "\n",
    "def plot_savgol(window, order):\n",
    "    output_savgol.clear_output()\n",
    "    with output_savgol:\n",
    "        fig = plt.figure(figsize=(10,5))\n",
    "        \n",
    "        sns.scatterplot(x='Date', y='apr', data=apr, linewidth=0, alpha = 0.8, label='data')\n",
    "        sns.lineplot(x='Date', y='apr_savgol', data= SavgolFilter('apr', window, order).transform(apr), lw=3, color='C1', label='fitered')\n",
    "        \n",
    "        plt.ylabel('APR')\n",
    "\n",
    "        plt.legend()\n",
    "        plt.show()\n",
    "\n",
    "    \n",
    "def slider_window_eventhandler(change):\n",
    "    plot_savgol(window=change.new, order=slider_order.value)\n",
    "\n",
    "def slider_order_eventhandler(change):\n",
    "    plot_savgol(window=slider_window.value, order=change.new)\n",
    "    \n",
    "    \n",
    "slider_order = widgets.IntSlider(value=1, min=1, max=10, step=1, description='Order:', continuous_update=True)\n",
    "slider_window = widgets.IntSlider(value=1, min=11, max=101, step=2, description='Window:')\n",
    "\n",
    "display(slider_order)\n",
    "display(slider_window)\n",
    "\n",
    "slider_order.observe(slider_order_eventhandler, names='value')\n",
    "slider_window.observe(slider_window_eventhandler, names='value')\n",
    "\n",
    "output_savgol = widgets.Output()\n",
    "output_savgol.layout.height = '300px'\n",
    "display(output_savgol)\n",
    "\n",
    "plot_savgol(11,1)"
   ]
  },
  {
   "cell_type": "markdown",
   "metadata": {},
   "source": [
    "### Complite Linear Regression model\n",
    "\n",
    "For each of the local markets we build separate linear regression models for listing prices and rental rates.\n",
    "\n",
    "Listing prices are approximated with the following model:\n",
    "\n",
    "$$P^\\text{price}_{r,u} = P^0_{r,u} + \\alpha_{r,u} \\mathrm{HPI} +  \\beta^0_{r,u} \\mathrm{APR} + \\beta^1_{r,u} \\dfrac{d\\mathrm{APR}}{dt} +  \\sum_{n=1}^N \\gamma^{s, n}_{r,u} \\sin\\left(\\dfrac{2\\pi\\times n \\times \\mathrm{month}}{12}\\right) + \\gamma^{c, n}_{r,u}\\cos\\left(\\dfrac{2\\pi\\times n \\times \\mathrm{month}}{12}\\right)$$\n",
    "Here $r=[1,4]$ is the number of rooms and $u = [\\text{'urban'}, \\text{'suburb'}, \\text{'rural'}]$ defined the location. \n",
    "\n",
    "We use a similar model for rental rates, but instead of the HPI we use the FMR index: \n",
    "\n",
    "$$P^\\text{rent}_{r,u} = P^0_{r,u} + \\alpha_{r,u} \\mathrm{HPI} +  \\beta^0_{r,u} \\mathrm{APR} + \\beta^1_{r,u} \\dfrac{d\\mathrm{APR}}{dt} +  \\sum_{n=1}^N \\gamma^{s,n}_{r,u} \\sin\\left(\\dfrac{2\\pi\\times n\\times \\mathrm{month}}{12}\\right) + \\gamma^{c,n}_{r,u}\\cos\\left(\\dfrac{2\\pi\\times n\\times \\mathrm{month}}{12}\\right)$$\n"
   ]
  },
  {
   "cell_type": "markdown",
   "metadata": {},
   "source": [
    "### **Let's us fit our models!**"
   ]
  },
  {
   "cell_type": "code",
   "execution_count": 73,
   "metadata": {},
   "outputs": [],
   "source": [
    "pm.fit_all()\n",
    "rm.fit_all()"
   ]
  },
  {
   "cell_type": "code",
   "execution_count": 74,
   "metadata": {
    "jupyter": {
     "source_hidden": true
    }
   },
   "outputs": [],
   "source": [
    "price = pm.predict(features)\n",
    "price = price.merge(pm.features_and_targets[['Date', 'rooms', 'urban_code', 'target', 'density']] , on=['Date', 'rooms', 'urban_code', 'density'], how='inner')\n",
    "\n",
    "rent = rm.predict(features)\n",
    "rent = rent.merge(rm.features_and_targets[['Date', 'rooms', 'urban_code', 'target', 'density']] , on=['Date', 'rooms', 'urban_code', 'density'], how='inner')"
   ]
  },
  {
   "cell_type": "code",
   "execution_count": 75,
   "metadata": {
    "jupyter": {
     "source_hidden": true
    }
   },
   "outputs": [
    {
     "data": {
      "application/vnd.jupyter.widget-view+json": {
       "model_id": "baf7e36e0cf142a69f701e657addc96b",
       "version_major": 2,
       "version_minor": 0
      },
      "text/plain": [
       "Dropdown(description='Rooms: ', index=2, options=(1, 2, 3, 4), value=3)"
      ]
     },
     "metadata": {},
     "output_type": "display_data"
    },
    {
     "data": {
      "application/vnd.jupyter.widget-view+json": {
       "model_id": "b95cfe5fa1b84e01b800fe1b46b4cbc8",
       "version_major": 2,
       "version_minor": 0
      },
      "text/plain": [
       "Output()"
      ]
     },
     "metadata": {},
     "output_type": "display_data"
    }
   ],
   "source": [
    "def plot_prediction(ax, model, result, r):\n",
    "    ax = sns.lineplot(ax=ax, data=result[result.rooms==r], x='Date', y='y_hat', hue='density', \n",
    "                      legend=None, lw=2, hue_order=['urban', 'suburb', 'rural'])\n",
    "    ax = sns.scatterplot(ax=ax, data=result[result.rooms==r], x='Date', y='target', hue='density', \n",
    "                         lw=2, hue_order=['urban', 'suburb', 'rural'])\n",
    "    \n",
    "    handles, labels = ax.get_legend_handles_labels()\n",
    "    \n",
    "    for u in range(1,4):\n",
    "        r2 = model.models.loc[(model.models.rooms==r) & (model.models.urban_code==u) , 'model'].values[0].best_score_\n",
    "        labels[u] += f' ($r^2$={r2:.2f})'\n",
    "    ax.legend(handles, labels)\n",
    "    \n",
    "    \n",
    "\n",
    "def plot_price_rent(r):\n",
    "    fig = plt.figure(figsize=(15,5))\n",
    "    ax1 = plt.subplot(121)\n",
    "    plot_prediction(ax1, pm, price, r)\n",
    "    ax1.set_ylabel('Listing price, k$')\n",
    "    ax1.set_title(f'Listing price bedrooms={r}')\n",
    "    ax2 = plt.subplot(122)\n",
    "    plot_prediction(ax2, rm, rent, r)\n",
    "    ax2.set_ylabel('Rental Rate, $/month')\n",
    "    ax2.set_title(f'Rental rate bedrooms={r}')\n",
    "    \n",
    "\n",
    "def dropdown_mchk_rooms_handler(change):\n",
    "    output_mchk.clear_output()\n",
    "    with output_mchk:\n",
    "        plot_price_rent(change.new)\n",
    "        plt.show()\n",
    "\n",
    "dropdown_mchk_rooms = widgets.Dropdown(options=(range(1,5)), value=3, description='Rooms: ')\n",
    "dropdown_mchk_rooms.observe(dropdown_mchk_rooms_handler, names='value')\n",
    "\n",
    "output_mchk = widgets.Output() \n",
    "\n",
    "\n",
    "display(dropdown_mchk_rooms)\n",
    "display(output_mchk)\n",
    "\n",
    "with output_mchk:\n",
    "    plot_price_rent(3)\n",
    "    plt.show()\n",
    "\n",
    "# output_mchk.layout.height = '350px'\n"
   ]
  },
  {
   "cell_type": "markdown",
   "metadata": {},
   "source": [
    "Let's us check metrics (cross-validated $r^2$ score) of all models here. The closer  $r^2$ to 1 - the better our model fits the data.\n",
    "\n",
    "Here $r^2$ is calculated using KFold cross-validation, holding off 20% of random points for each validation. Also, $r^2$ is used to tune the hyper-parameters of the models and filter out insignificant features"
   ]
  },
  {
   "cell_type": "code",
   "execution_count": 21,
   "metadata": {
    "jupyter": {
     "source_hidden": true
    }
   },
   "outputs": [
    {
     "data": {
      "text/html": [
       "<style  type=\"text/css\" >\n",
       "    #T_f4dcdbaa_b00c_11e9_aad0_c3f2cc5277e0row0_col2 {\n",
       "            background-color:  #73c476;\n",
       "            color:  #000000;\n",
       "        }    #T_f4dcdbaa_b00c_11e9_aad0_c3f2cc5277e0row0_col3 {\n",
       "            background-color:  #bae3b3;\n",
       "            color:  #000000;\n",
       "        }    #T_f4dcdbaa_b00c_11e9_aad0_c3f2cc5277e0row1_col2 {\n",
       "            background-color:  #80ca80;\n",
       "            color:  #000000;\n",
       "        }    #T_f4dcdbaa_b00c_11e9_aad0_c3f2cc5277e0row1_col3 {\n",
       "            background-color:  #7fc97f;\n",
       "            color:  #000000;\n",
       "        }    #T_f4dcdbaa_b00c_11e9_aad0_c3f2cc5277e0row2_col2 {\n",
       "            background-color:  #abdda5;\n",
       "            color:  #000000;\n",
       "        }    #T_f4dcdbaa_b00c_11e9_aad0_c3f2cc5277e0row2_col3 {\n",
       "            background-color:  #aedea7;\n",
       "            color:  #000000;\n",
       "        }    #T_f4dcdbaa_b00c_11e9_aad0_c3f2cc5277e0row3_col2 {\n",
       "            background-color:  #79c67a;\n",
       "            color:  #000000;\n",
       "        }    #T_f4dcdbaa_b00c_11e9_aad0_c3f2cc5277e0row3_col3 {\n",
       "            background-color:  #cfecc9;\n",
       "            color:  #000000;\n",
       "        }    #T_f4dcdbaa_b00c_11e9_aad0_c3f2cc5277e0row4_col2 {\n",
       "            background-color:  #8bcf89;\n",
       "            color:  #000000;\n",
       "        }    #T_f4dcdbaa_b00c_11e9_aad0_c3f2cc5277e0row4_col3 {\n",
       "            background-color:  #79c67a;\n",
       "            color:  #000000;\n",
       "        }    #T_f4dcdbaa_b00c_11e9_aad0_c3f2cc5277e0row5_col2 {\n",
       "            background-color:  #a3da9d;\n",
       "            color:  #000000;\n",
       "        }    #T_f4dcdbaa_b00c_11e9_aad0_c3f2cc5277e0row5_col3 {\n",
       "            background-color:  #cfecc9;\n",
       "            color:  #000000;\n",
       "        }    #T_f4dcdbaa_b00c_11e9_aad0_c3f2cc5277e0row6_col2 {\n",
       "            background-color:  #7dc87e;\n",
       "            color:  #000000;\n",
       "        }    #T_f4dcdbaa_b00c_11e9_aad0_c3f2cc5277e0row6_col3 {\n",
       "            background-color:  #94d390;\n",
       "            color:  #000000;\n",
       "        }    #T_f4dcdbaa_b00c_11e9_aad0_c3f2cc5277e0row7_col2 {\n",
       "            background-color:  #94d390;\n",
       "            color:  #000000;\n",
       "        }    #T_f4dcdbaa_b00c_11e9_aad0_c3f2cc5277e0row7_col3 {\n",
       "            background-color:  #73c476;\n",
       "            color:  #000000;\n",
       "        }    #T_f4dcdbaa_b00c_11e9_aad0_c3f2cc5277e0row8_col2 {\n",
       "            background-color:  #ecf8e8;\n",
       "            color:  #000000;\n",
       "        }    #T_f4dcdbaa_b00c_11e9_aad0_c3f2cc5277e0row8_col3 {\n",
       "            background-color:  #f7fcf5;\n",
       "            color:  #000000;\n",
       "        }    #T_f4dcdbaa_b00c_11e9_aad0_c3f2cc5277e0row9_col2 {\n",
       "            background-color:  #8ed08b;\n",
       "            color:  #000000;\n",
       "        }    #T_f4dcdbaa_b00c_11e9_aad0_c3f2cc5277e0row9_col3 {\n",
       "            background-color:  #88ce87;\n",
       "            color:  #000000;\n",
       "        }    #T_f4dcdbaa_b00c_11e9_aad0_c3f2cc5277e0row10_col2 {\n",
       "            background-color:  #92d28f;\n",
       "            color:  #000000;\n",
       "        }    #T_f4dcdbaa_b00c_11e9_aad0_c3f2cc5277e0row10_col3 {\n",
       "            background-color:  #dbf1d5;\n",
       "            color:  #000000;\n",
       "        }    #T_f4dcdbaa_b00c_11e9_aad0_c3f2cc5277e0row11_col2 {\n",
       "            background-color:  #f7fcf5;\n",
       "            color:  #000000;\n",
       "        }    #T_f4dcdbaa_b00c_11e9_aad0_c3f2cc5277e0row11_col3 {\n",
       "            background-color:  #f3faf0;\n",
       "            color:  #000000;\n",
       "        }</style><table id=\"T_f4dcdbaa_b00c_11e9_aad0_c3f2cc5277e0\" ><thead>    <tr>        <th class=\"blank level0\" ></th>        <th class=\"col_heading level0 col0\" >rooms</th>        <th class=\"col_heading level0 col1\" >density</th>        <th class=\"col_heading level0 col2\" >r2 price</th>        <th class=\"col_heading level0 col3\" >r2 rent</th>    </tr></thead><tbody>\n",
       "                <tr>\n",
       "                        <th id=\"T_f4dcdbaa_b00c_11e9_aad0_c3f2cc5277e0level0_row0\" class=\"row_heading level0 row0\" >0</th>\n",
       "                        <td id=\"T_f4dcdbaa_b00c_11e9_aad0_c3f2cc5277e0row0_col0\" class=\"data row0 col0\" >1</td>\n",
       "                        <td id=\"T_f4dcdbaa_b00c_11e9_aad0_c3f2cc5277e0row0_col1\" class=\"data row0 col1\" >urban</td>\n",
       "                        <td id=\"T_f4dcdbaa_b00c_11e9_aad0_c3f2cc5277e0row0_col2\" class=\"data row0 col2\" >0.96139</td>\n",
       "                        <td id=\"T_f4dcdbaa_b00c_11e9_aad0_c3f2cc5277e0row0_col3\" class=\"data row0 col3\" >0.478348</td>\n",
       "            </tr>\n",
       "            <tr>\n",
       "                        <th id=\"T_f4dcdbaa_b00c_11e9_aad0_c3f2cc5277e0level0_row1\" class=\"row_heading level0 row1\" >1</th>\n",
       "                        <td id=\"T_f4dcdbaa_b00c_11e9_aad0_c3f2cc5277e0row1_col0\" class=\"data row1 col0\" >1</td>\n",
       "                        <td id=\"T_f4dcdbaa_b00c_11e9_aad0_c3f2cc5277e0row1_col1\" class=\"data row1 col1\" >suburb</td>\n",
       "                        <td id=\"T_f4dcdbaa_b00c_11e9_aad0_c3f2cc5277e0row1_col2\" class=\"data row1 col2\" >0.945937</td>\n",
       "                        <td id=\"T_f4dcdbaa_b00c_11e9_aad0_c3f2cc5277e0row1_col3\" class=\"data row1 col3\" >0.80798</td>\n",
       "            </tr>\n",
       "            <tr>\n",
       "                        <th id=\"T_f4dcdbaa_b00c_11e9_aad0_c3f2cc5277e0level0_row2\" class=\"row_heading level0 row2\" >2</th>\n",
       "                        <td id=\"T_f4dcdbaa_b00c_11e9_aad0_c3f2cc5277e0row2_col0\" class=\"data row2 col0\" >1</td>\n",
       "                        <td id=\"T_f4dcdbaa_b00c_11e9_aad0_c3f2cc5277e0row2_col1\" class=\"data row2 col1\" >rural</td>\n",
       "                        <td id=\"T_f4dcdbaa_b00c_11e9_aad0_c3f2cc5277e0row2_col2\" class=\"data row2 col2\" >0.88528</td>\n",
       "                        <td id=\"T_f4dcdbaa_b00c_11e9_aad0_c3f2cc5277e0row2_col3\" class=\"data row2 col3\" >0.550712</td>\n",
       "            </tr>\n",
       "            <tr>\n",
       "                        <th id=\"T_f4dcdbaa_b00c_11e9_aad0_c3f2cc5277e0level0_row3\" class=\"row_heading level0 row3\" >3</th>\n",
       "                        <td id=\"T_f4dcdbaa_b00c_11e9_aad0_c3f2cc5277e0row3_col0\" class=\"data row3 col0\" >2</td>\n",
       "                        <td id=\"T_f4dcdbaa_b00c_11e9_aad0_c3f2cc5277e0row3_col1\" class=\"data row3 col1\" >urban</td>\n",
       "                        <td id=\"T_f4dcdbaa_b00c_11e9_aad0_c3f2cc5277e0row3_col2\" class=\"data row3 col2\" >0.954928</td>\n",
       "                        <td id=\"T_f4dcdbaa_b00c_11e9_aad0_c3f2cc5277e0row3_col3\" class=\"data row3 col3\" >0.325835</td>\n",
       "            </tr>\n",
       "            <tr>\n",
       "                        <th id=\"T_f4dcdbaa_b00c_11e9_aad0_c3f2cc5277e0level0_row4\" class=\"row_heading level0 row4\" >4</th>\n",
       "                        <td id=\"T_f4dcdbaa_b00c_11e9_aad0_c3f2cc5277e0row4_col0\" class=\"data row4 col0\" >2</td>\n",
       "                        <td id=\"T_f4dcdbaa_b00c_11e9_aad0_c3f2cc5277e0row4_col1\" class=\"data row4 col1\" >suburb</td>\n",
       "                        <td id=\"T_f4dcdbaa_b00c_11e9_aad0_c3f2cc5277e0row4_col2\" class=\"data row4 col2\" >0.930898</td>\n",
       "                        <td id=\"T_f4dcdbaa_b00c_11e9_aad0_c3f2cc5277e0row4_col3\" class=\"data row4 col3\" >0.835827</td>\n",
       "            </tr>\n",
       "            <tr>\n",
       "                        <th id=\"T_f4dcdbaa_b00c_11e9_aad0_c3f2cc5277e0level0_row5\" class=\"row_heading level0 row5\" >5</th>\n",
       "                        <td id=\"T_f4dcdbaa_b00c_11e9_aad0_c3f2cc5277e0row5_col0\" class=\"data row5 col0\" >2</td>\n",
       "                        <td id=\"T_f4dcdbaa_b00c_11e9_aad0_c3f2cc5277e0row5_col1\" class=\"data row5 col1\" >rural</td>\n",
       "                        <td id=\"T_f4dcdbaa_b00c_11e9_aad0_c3f2cc5277e0row5_col2\" class=\"data row5 col2\" >0.897287</td>\n",
       "                        <td id=\"T_f4dcdbaa_b00c_11e9_aad0_c3f2cc5277e0row5_col3\" class=\"data row5 col3\" >0.329922</td>\n",
       "            </tr>\n",
       "            <tr>\n",
       "                        <th id=\"T_f4dcdbaa_b00c_11e9_aad0_c3f2cc5277e0level0_row6\" class=\"row_heading level0 row6\" >6</th>\n",
       "                        <td id=\"T_f4dcdbaa_b00c_11e9_aad0_c3f2cc5277e0row6_col0\" class=\"data row6 col0\" >3</td>\n",
       "                        <td id=\"T_f4dcdbaa_b00c_11e9_aad0_c3f2cc5277e0row6_col1\" class=\"data row6 col1\" >urban</td>\n",
       "                        <td id=\"T_f4dcdbaa_b00c_11e9_aad0_c3f2cc5277e0row6_col2\" class=\"data row6 col2\" >0.949216</td>\n",
       "                        <td id=\"T_f4dcdbaa_b00c_11e9_aad0_c3f2cc5277e0row6_col3\" class=\"data row6 col3\" >0.696226</td>\n",
       "            </tr>\n",
       "            <tr>\n",
       "                        <th id=\"T_f4dcdbaa_b00c_11e9_aad0_c3f2cc5277e0level0_row7\" class=\"row_heading level0 row7\" >7</th>\n",
       "                        <td id=\"T_f4dcdbaa_b00c_11e9_aad0_c3f2cc5277e0row7_col0\" class=\"data row7 col0\" >3</td>\n",
       "                        <td id=\"T_f4dcdbaa_b00c_11e9_aad0_c3f2cc5277e0row7_col1\" class=\"data row7 col1\" >suburb</td>\n",
       "                        <td id=\"T_f4dcdbaa_b00c_11e9_aad0_c3f2cc5277e0row7_col2\" class=\"data row7 col2\" >0.918981</td>\n",
       "                        <td id=\"T_f4dcdbaa_b00c_11e9_aad0_c3f2cc5277e0row7_col3\" class=\"data row7 col3\" >0.864501</td>\n",
       "            </tr>\n",
       "            <tr>\n",
       "                        <th id=\"T_f4dcdbaa_b00c_11e9_aad0_c3f2cc5277e0level0_row8\" class=\"row_heading level0 row8\" >8</th>\n",
       "                        <td id=\"T_f4dcdbaa_b00c_11e9_aad0_c3f2cc5277e0row8_col0\" class=\"data row8 col0\" >3</td>\n",
       "                        <td id=\"T_f4dcdbaa_b00c_11e9_aad0_c3f2cc5277e0row8_col1\" class=\"data row8 col1\" >rural</td>\n",
       "                        <td id=\"T_f4dcdbaa_b00c_11e9_aad0_c3f2cc5277e0row8_col2\" class=\"data row8 col2\" >0.758903</td>\n",
       "                        <td id=\"T_f4dcdbaa_b00c_11e9_aad0_c3f2cc5277e0row8_col3\" class=\"data row8 col3\" >-0.0800644</td>\n",
       "            </tr>\n",
       "            <tr>\n",
       "                        <th id=\"T_f4dcdbaa_b00c_11e9_aad0_c3f2cc5277e0level0_row9\" class=\"row_heading level0 row9\" >9</th>\n",
       "                        <td id=\"T_f4dcdbaa_b00c_11e9_aad0_c3f2cc5277e0row9_col0\" class=\"data row9 col0\" >4</td>\n",
       "                        <td id=\"T_f4dcdbaa_b00c_11e9_aad0_c3f2cc5277e0row9_col1\" class=\"data row9 col1\" >urban</td>\n",
       "                        <td id=\"T_f4dcdbaa_b00c_11e9_aad0_c3f2cc5277e0row9_col2\" class=\"data row9 col2\" >0.92569</td>\n",
       "                        <td id=\"T_f4dcdbaa_b00c_11e9_aad0_c3f2cc5277e0row9_col3\" class=\"data row9 col3\" >0.758384</td>\n",
       "            </tr>\n",
       "            <tr>\n",
       "                        <th id=\"T_f4dcdbaa_b00c_11e9_aad0_c3f2cc5277e0level0_row10\" class=\"row_heading level0 row10\" >10</th>\n",
       "                        <td id=\"T_f4dcdbaa_b00c_11e9_aad0_c3f2cc5277e0row10_col0\" class=\"data row10 col0\" >4</td>\n",
       "                        <td id=\"T_f4dcdbaa_b00c_11e9_aad0_c3f2cc5277e0row10_col1\" class=\"data row10 col1\" >suburb</td>\n",
       "                        <td id=\"T_f4dcdbaa_b00c_11e9_aad0_c3f2cc5277e0row10_col2\" class=\"data row10 col2\" >0.921362</td>\n",
       "                        <td id=\"T_f4dcdbaa_b00c_11e9_aad0_c3f2cc5277e0row10_col3\" class=\"data row10 col3\" >0.239809</td>\n",
       "            </tr>\n",
       "            <tr>\n",
       "                        <th id=\"T_f4dcdbaa_b00c_11e9_aad0_c3f2cc5277e0level0_row11\" class=\"row_heading level0 row11\" >11</th>\n",
       "                        <td id=\"T_f4dcdbaa_b00c_11e9_aad0_c3f2cc5277e0row11_col0\" class=\"data row11 col0\" >4</td>\n",
       "                        <td id=\"T_f4dcdbaa_b00c_11e9_aad0_c3f2cc5277e0row11_col1\" class=\"data row11 col1\" >rural</td>\n",
       "                        <td id=\"T_f4dcdbaa_b00c_11e9_aad0_c3f2cc5277e0row11_col2\" class=\"data row11 col2\" >0.719724</td>\n",
       "                        <td id=\"T_f4dcdbaa_b00c_11e9_aad0_c3f2cc5277e0row11_col3\" class=\"data row11 col3\" >-0.0242897</td>\n",
       "            </tr>\n",
       "    </tbody></table>"
      ],
      "text/plain": [
       "<pandas.io.formats.style.Styler at 0x7f22168c6fd0>"
      ]
     },
     "execution_count": 21,
     "metadata": {},
     "output_type": "execute_result"
    }
   ],
   "source": [
    "def highlight_max(s):\n",
    "    print(s)\n",
    "    if s['r2 price'] < 0.5:\n",
    "        return ['background-color: yellow']*len(s)\n",
    "\n",
    "\n",
    "p_scores = pm.models.model.apply(lambda x: x.best_score_)\n",
    "p_scores.name ='r2 price'\n",
    "r_scores = rm.models.model.apply(lambda x: x.best_score_)\n",
    "r_scores.name ='r2 rent'\n",
    "\n",
    "cm = sns.light_palette(\"green\", as_cmap=True)\n",
    "\n",
    "pd.concat([pm.models[['rooms', 'density']], p_scores, r_scores], axis=1).style.background_gradient(\n",
    "    cmap=\"Greens\", subset=['r2 price', 'r2 rent'], low=0, high=1)\n"
   ]
  },
  {
   "cell_type": "markdown",
   "metadata": {},
   "source": [
    "We conclude that our models work very well in predicting listing prices, except for the rural area. The models for rental rates work worse, but still give a reasonably good fits for urban and suburb areas. "
   ]
  },
  {
   "cell_type": "markdown",
   "metadata": {},
   "source": [
    "### So the models work, let's predict the future"
   ]
  },
  {
   "cell_type": "markdown",
   "metadata": {},
   "source": [
    "We model correction in the market as a drop in the HPI and FMR with subsequent recovery. We model correction in the market as a drop in the HPI and FMR with subsequent recovery. For each market, we compute the expected listing price and rental rates. Having that, we can calculate the total cost of a home, including paid rent. In our calculations, we consider that I am already renting starting on January 1, 2018\n"
   ]
  },
  {
   "cell_type": "code",
   "execution_count": 115,
   "metadata": {
    "jupyter": {
     "source_hidden": true
    }
   },
   "outputs": [
    {
     "data": {
      "application/vnd.jupyter.widget-view+json": {
       "model_id": "5e0d320bd955443f965f67fd91fac3d8",
       "version_major": 2,
       "version_minor": 0
      },
      "text/plain": [
       "VBox(children=(HBox(children=(Label(value='I am renting'), RadioButtons(description='Density', options=('urban…"
      ]
     },
     "metadata": {},
     "output_type": "display_data"
    },
    {
     "data": {
      "application/vnd.jupyter.widget-view+json": {
       "model_id": "e3238580f2e04c6d8c2f2f576a602086",
       "version_major": 2,
       "version_minor": 0
      },
      "text/plain": [
       "Output(layout=Layout(height='1000px'))"
      ]
     },
     "metadata": {},
     "output_type": "display_data"
    }
   ],
   "source": [
    "import scipy.interpolate as INT\n",
    "\n",
    "def correction(x0, x1, x_c, y_c):\n",
    "    x = np.asarray([x0, x0+1,  x_c, x1-1, x1])\n",
    "    y = np.asarray([0,  0,    y_c,   0,0 ])\n",
    "   \n",
    "    sp = INT.CubicSpline(x,y, bc_type='clamped')\n",
    "\n",
    "    return sp\n",
    "\n",
    "years = 10\n",
    "\n",
    "def rental_cost(df, t0, row):\n",
    "    r = row.rooms\n",
    "    uc = row.urban_code\n",
    "    t =  row.Date\n",
    "    \n",
    "    dfur = df[(df.rooms==r) & (df.urban_code==uc)]\n",
    "    acc = 0\n",
    "    year = 12*pd.tseries.offsets.MonthEnd()\n",
    "    while t0 < t:\n",
    "        if (t - t0).days > 365:\n",
    "            acc+=dfur.loc[dfur.Date==t0, 'y_hat'].values[0]*12\n",
    "        else:\n",
    "            acc+=dfur.loc[dfur.Date==t0, 'y_hat'].values[0]*(t - t0).days/30\n",
    "        t0 += year\n",
    "    return acc\n",
    "\n",
    "\n",
    "def predict_future(corr):\n",
    "    future = pd.DataFrame()\n",
    "\n",
    "    future['Date'] = pd.Series(pd.date_range('2018-01-01', periods=12*years, freq='M', name='Date'))\n",
    "\n",
    "    lm = LinearRegression()\n",
    "    lm.fit(hpi_ma[hpi_ma.Date>'2016-01-01'][['Date']].astype(int), hpi_ma.loc[hpi_ma.Date>'2016-01-01', 'hpi_sa'])\n",
    "    future['hpi_sa'] = lm.predict(future[['Date']].astype(int))\n",
    "    future['hpi_sa'] += round((future.Date - future.Date[0]).dt.days/30).apply(correction(0, len(future),60, -corr))\n",
    "    lm.fit(fmr[fmr.Date>'2012-01-01'][['Date']].astype(int), fmr.loc[fmr.Date>'2012-01-01', 'fmr'])\n",
    "    future['fmr'] = lm.predict(future[['Date']].astype(int))\n",
    "    future['fmr'] += round((future.Date - future.Date[0]).dt.days/30).apply(correction(0, len(future),60, -corr*8))\n",
    "    lm.fit(apr[apr.Date>'2013-01-01'][['Date']].astype(int), apr.loc[apr.Date>'2013-01-01', 'apr'])\n",
    "    future['apr'] = lm.predict(future[['Date']].astype(int))\n",
    "    future = pd.concat([features, future],axis=0, sort=False).reset_index(drop=True)\n",
    "\n",
    "    future_price = pm.predict(future)\n",
    "    future_price = future_price.merge(pm.features_and_targets[['Date', 'rooms', 'urban_code', 'target']] , on=['Date', 'rooms', 'urban_code'], how='left')\n",
    "    future_rent = rm.predict(future)\n",
    "    future_rent = future_rent.merge(rm.features_and_targets[['Date', 'rooms', 'urban_code', 'target']] , on=['Date', 'rooms', 'urban_code'], how='left')\n",
    "    \n",
    "    return future, future_price, future_rent\n",
    "\n",
    "\n",
    "def plot_result(ax, result, r, u):\n",
    "    ax = sns.lineplot(ax=ax, data=result[(result.rooms==r) & (result.density==u)], x='Date', y='y_hat', \n",
    "                      legend=None, lw=2)\n",
    "    ax = sns.scatterplot(ax=ax, data=result[(result.rooms==r) & (result.density==u)], x='Date', y='target', hue='density', \n",
    "                         lw=2)\n",
    "    \n",
    "def plot_price_rent_total(future, future_price, future_rent, r_price, u_price, r_rent, u_rent):\n",
    "    plt.figure(figsize=(15,15))\n",
    "\n",
    "    ax1 = plt.subplot(321)\n",
    "    sns.lineplot(ax=ax1, data=future, x='Date', y='hpi_sa', legend=False)\n",
    "    ax1.set_ylabel('House price index')\n",
    "    \n",
    "    ax2 = plt.subplot(322)\n",
    "    sns.lineplot(ax=ax2, data=future, x='Date', y='fmr', legend=False)\n",
    "    ax2.set_ylabel('Fair monthly rate')\n",
    "    \n",
    "    ax3 = plt.subplot(323)\n",
    "    plot_result(ax3, future_price, r_price, u_price)\n",
    "    ax3.set_ylabel('Prediced listing price, k$')\n",
    "    \n",
    "    ax4 = plt.subplot(324)\n",
    "    plot_result(ax4, future_rent, r_rent, u_rent)\n",
    "    ax4.set_ylabel('Prediced rental rate, $/month')\n",
    "    \n",
    "    ax5 = plt.subplot2grid((3, 2), (2, 0), colspan=2)\n",
    "    \n",
    "    future_rent['total_rent_cost'] = future_rent[\n",
    "        (future_rent.rooms==r_rent) & (future_rent.density==u_rent)].apply(\n",
    "        lambda r: rental_cost(future_rent, pd.to_datetime('2018-01-31'), r), axis=1)/1000\n",
    "    \n",
    "    future_price = future_price[(future_price.rooms==r_price) & (future_price.density == u_price)]\n",
    "    \n",
    "    future_price = future_price.merge(\n",
    "        future_rent[['Date', 'total_rent_cost']], on=['Date'], how='inner')\n",
    "    \n",
    "    future_price['total_cost'] = (future_price.y_hat + future_price.total_rent_cost)\n",
    "    \n",
    "    sns.lineplot(ax=ax5, data=future_price, x='Date', y='total_cost', legend=False, label='total cost')\n",
    "    sns.lineplot(ax=ax5, data=future_price, x='Date', y='y_hat', legend=False, label='house price')\n",
    "    sns.lineplot(ax=ax5, data=future_rent, x='Date', y='total_rent_cost', legend=False, label='rent cost')\n",
    "    \n",
    "    ax5.set_ylabel('Total cost, k$')\n",
    "    \n",
    "    today = pd.to_datetime('today')\n",
    "    \n",
    "    best_date = future_price.loc[future_price.loc[future_price.Date>today,'total_cost'].idxmin(), 'Date']\n",
    "    \n",
    "    \n",
    "    ax5.axvline(best_date, c='C4', ls='-', lw=3, label='Best date to buy')\n",
    "    ax5.axvline(today, c='k', ls='--', label='today')\n",
    "    ax5.axvline(pd.to_datetime('2018-01-31'), c='C9', ls='--', label='started renting')\n",
    "    \n",
    "    ax5.legend()\n",
    "\n",
    "    \n",
    "    \n",
    "    for ax in (ax1, ax2, ax3, ax4, ax5):\n",
    "        ax.set_xlim(datetime.date(2015, 1,1), datetime.date(2026, 6,1))\n",
    "\n",
    "        \n",
    "        \n",
    "def update_all(corr, r_price, u_price, r_rent, u_rent):\n",
    "    output_all_pred.clear_output()\n",
    "    with output_all_pred:\n",
    "        future, future_price, future_rent = predict_future(corr)\n",
    "        plot_price_rent_total(future, future_price, future_rent, r_price, u_price, r_rent, u_rent)\n",
    "        plt.show()\n",
    "\n",
    "state_all_pred = {\n",
    "    'corr': 85,\n",
    "    'r_price': 1,\n",
    "    'u_price': 'urban',\n",
    "    'r_rent': 1,\n",
    "    'u_rent': 'urban',\n",
    "}\n",
    "\n",
    "def dropdown_r_density_update(change):\n",
    "    state_all_pred['r_density'] = 'rural'\n",
    "    update_all(**state_all_pred)\n",
    "\n",
    "\n",
    "def slider_r_rooms_update(change):\n",
    "    state_all_pred['r_rent'] = change.new\n",
    "    update_all(**state_all_pred)\n",
    "\n",
    "def sel_r_density_update(change):\n",
    "    state_all_pred['u_rent'] = change.new\n",
    "    output_all_pred.clear_output()\n",
    "    update_all(**state_all_pred)\n",
    "\n",
    "def slider_p_rooms_update(change):\n",
    "    state_all_pred['r_price'] = change.new\n",
    "    update_all(**state_all_pred)    \n",
    "    \n",
    "\n",
    "def sel_p_density_update(change):\n",
    "    state_all_pred['u_price'] = change.new\n",
    "    output_all_pred.clear_output()\n",
    "    update_all(**state_all_pred)\n",
    "    \n",
    "\n",
    "def slider_corr_update(change):\n",
    "    state_all_pred['corr'] = change.new\n",
    "    update_all(**state_all_pred)\n",
    "\n",
    "\n",
    "sel_r_density = widgets.RadioButtons(\n",
    "    options=['urban', 'suburb', 'rural'],\n",
    "    description='Density',\n",
    "    disabled=False\n",
    ")\n",
    "\n",
    "sel_r_density.observe(sel_r_density_update, names='value')\n",
    "\n",
    "\n",
    "sel_p_density = widgets.RadioButtons(\n",
    "    options=['urban', 'suburb', 'rural'],\n",
    "    description='Density',\n",
    "    disabled=False\n",
    ")\n",
    "\n",
    "sel_p_density.observe(sel_p_density_update, names='value')\n",
    "\n",
    "slider_r_rooms = widgets.IntSlider(value=1, min=1, max=4, step=1, description='Rooms:', continuous_update=False)\n",
    "slider_r_rooms.observe(slider_r_rooms_update, names='value')\n",
    "\n",
    "slider_p_rooms = widgets.IntSlider(value=1, min=1, max=4, step=1, description='Rooms:', continuous_update=False)\n",
    "slider_p_rooms.observe(slider_p_rooms_update, names='value')\n",
    "\n",
    "\n",
    "slider_corr = widgets.IntSlider(value=85, min=0, max=130, step=1, description='Correction:', continuous_update=False)\n",
    "slider_corr.observe(slider_corr_update, names='value')\n",
    "\n",
    "display(widgets.VBox([\n",
    "    widgets.HBox([widgets.Label(value=\"I am renting\"), sel_r_density, slider_r_rooms]),\n",
    "    widgets.HBox([widgets.Label(value=\"I am going to buy\"), sel_p_density, slider_p_rooms]),\n",
    "    slider_corr\n",
    "]))\n",
    "\n",
    "\n",
    "\n",
    "\n",
    "# slider_window.observe(slider_window_eventhandler, names='value')\n",
    "\n",
    "output_all_pred = widgets.Output()\n",
    "output_all_pred.layout.height = '1000px'\n",
    "display(output_all_pred)\n",
    "\n",
    "    \n",
    "update_all(**state_all_pred)\n"
   ]
  },
  {
   "cell_type": "code",
   "execution_count": null,
   "metadata": {},
   "outputs": [],
   "source": []
  }
 ],
 "metadata": {
  "kernelspec": {
   "display_name": "Python [conda env:jlab] *",
   "language": "python",
   "name": "conda-env-jlab-py"
  },
  "language_info": {
   "codemirror_mode": {
    "name": "ipython",
    "version": 3
   },
   "file_extension": ".py",
   "mimetype": "text/x-python",
   "name": "python",
   "nbconvert_exporter": "python",
   "pygments_lexer": "ipython3",
   "version": "3.7.3"
  }
 },
 "nbformat": 4,
 "nbformat_minor": 2
}
